{
 "cells": [
  {
   "cell_type": "markdown",
   "metadata": {
    "deletable": true,
    "editable": true
   },
   "source": [
    "# Chapter 10: Sound Sharing and Retreival\n",
    "## a) Create Audio Database"
   ]
  },
  {
   "cell_type": "code",
   "execution_count": null,
   "metadata": {
    "collapsed": false,
    "deletable": true,
    "editable": true
   },
   "outputs": [],
   "source": [
    "import os\n",
    "import pandas as pd\n",
    "import numpy as np\n",
    "import freesound\n",
    "from whoosh.fields import Schema, ID, TEXT, KEYWORD, NUMERIC\n",
    "from whoosh.index import create_in\n",
    "try:\n",
    "    from freesound_apikey import FREESOUND_API_KEY\n",
    "except ImportError:\n",
    "    print('Can\\'t load your Freesound API key!\\nPlease request an API key at http://freesound.org/apiv2/apply/ and paste it in a file named \\'freesound_apikey.py\\'.')"
   ]
  },
  {
   "cell_type": "code",
   "execution_count": null,
   "metadata": {
    "collapsed": true,
    "deletable": true,
    "editable": true
   },
   "outputs": [],
   "source": [
    "def create_text_index():\n",
    "    schema = Schema(\n",
    "        name = TEXT,\n",
    "        description = TEXT,\n",
    "        username = TEXT,\n",
    "        tags = KEYWORD,\n",
    "        duration = NUMERIC,\n",
    "        license = TEXT,\n",
    "        pandas_index = ID(stored=True),\n",
    "    )\n",
    "    text_index = create_in(\"text_index\", schema)\n",
    "    return text_index"
   ]
  },
  {
   "cell_type": "code",
   "execution_count": null,
   "metadata": {
    "collapsed": true,
    "deletable": true,
    "editable": true
   },
   "outputs": [],
   "source": [
    "def replace_license_label(record):\n",
    "    short_name = ''  # Required for using as whoosh facets\n",
    "    if 'publicdomain' in record['license']: short_name = 'CC_0'\n",
    "    elif 'by/3.0' in record['license']: short_name = 'CC_BY'\n",
    "    elif 'by-nc/3.0' in record['license']: short_name = 'CC_BY_NC'\n",
    "    elif 'sampling+' in record['license']: short_name = 'S_Plus'\n",
    "    record['license'] = short_name\n",
    "    return record"
   ]
  },
  {
   "cell_type": "code",
   "execution_count": null,
   "metadata": {
    "collapsed": true,
    "deletable": true,
    "editable": true
   },
   "outputs": [],
   "source": [
    "def query_freesound(q):\n",
    "    freesound_client = freesound.FreesoundClient()\n",
    "    freesound_client.set_token(FREESOUND_API_KEY)\n",
    "    pager = freesound_client.text_search(\n",
    "        query = q,\n",
    "        fields = \"id,name,tags,username,analysis,duration,\" \\\n",
    "            + \"description,license,previews\",\n",
    "        descriptors = \"lowlevel.mfcc.mean,lowlevel.mfcc.var,\" \\\n",
    "            + \"lowlevel.spectral_centroid.mean\",\n",
    "        group_by_pack = 1,\n",
    "        page_size = 50\n",
    "    )\n",
    "    return [sound for sound in pager if sound.analysis]"
   ]
  },
  {
   "cell_type": "code",
   "execution_count": null,
   "metadata": {
    "collapsed": true,
    "deletable": true,
    "editable": true
   },
   "outputs": [],
   "source": [
    "def make_pandas_record(fs_object):\n",
    "    record = {key: fs_object.as_dict()[key]\n",
    "              for key in metadata_fields}\n",
    "    record[\"path\"] = \"files/\" + \\\n",
    "        fs_object.previews.preview_lq_mp3.split(\"/\")[-1]\n",
    "    lowlevel = fs_object.analysis.lowlevel\n",
    "    for index, val in enumerate(lowlevel.mfcc.mean):\n",
    "        record[\"mfcc_mean_%i\"%index] = val\n",
    "    for index, val  in enumerate(lowlevel.mfcc.var):\n",
    "        record[\"mfcc_var_%i\"%index] = val\n",
    "    record[\"spectral_centroid\"] = lowlevel.spectral_centroid.mean\n",
    "    return replace_license_label(record)"
   ]
  },
  {
   "cell_type": "code",
   "execution_count": null,
   "metadata": {
    "collapsed": true,
    "deletable": true,
    "editable": true
   },
   "outputs": [],
   "source": [
    "def make_whoosh_record(fs_object, pandas_index):\n",
    "    record = {key: fs_object.as_dict()[key]\n",
    "              for key in metadata_fields}\n",
    "    record[\"pandas_index\"] = str(pandas_index)\n",
    "    return replace_license_label(record)"
   ]
  },
  {
   "cell_type": "code",
   "execution_count": null,
   "metadata": {
    "collapsed": true,
    "deletable": true,
    "editable": true
   },
   "outputs": [],
   "source": [
    "def make_db():\n",
    "    sounds = sum([query_freesound(animal)\n",
    "        for animal in animal_sounds],[])\n",
    "    for sound in sounds:\n",
    "        sound.retrieve_preview(\"files/\")\n",
    "    data_frame =  pd.DataFrame(\n",
    "        [make_pandas_record(s) for s in sounds])\n",
    "    text_index = create_text_index()\n",
    "    writer = text_index.writer()\n",
    "    for index, sound in enumerate(sounds):\n",
    "        text_document = make_whoosh_record(sound, index)\n",
    "        writer.add_document(**text_document)\n",
    "    writer.commit()\n",
    "    data_frame.to_csv('database.csv')\n",
    "    print('Created dataset with %i sounds!' % len(sounds))"
   ]
  },
  {
   "cell_type": "code",
   "execution_count": null,
   "metadata": {
    "collapsed": false,
    "deletable": true,
    "editable": true
   },
   "outputs": [],
   "source": [
    "# Make the db with animal sounds\n",
    "\n",
    "animal_sounds = [\"dog bark\", \"cat meow\", \"lion roar\", \"nightingale\"]\n",
    "metadata_fields = [\"name\", \"tags\", \"username\",\n",
    "                  \"description\",\"duration\", \"license\"]\n",
    "if not os.path.exists(\"text_index\"): os.mkdir(\"text_index\")\n",
    "if not os.path.exists(\"files\"): os.mkdir(\"files\")\n",
    "\n",
    "make_db()"
   ]
  }
 ],
 "metadata": {
  "kernelspec": {
   "display_name": "Python 3",
   "language": "python",
   "name": "python3"
  },
  "language_info": {
   "codemirror_mode": {
    "name": "ipython",
    "version": 3
   },
   "file_extension": ".py",
   "mimetype": "text/x-python",
   "name": "python",
   "nbconvert_exporter": "python",
   "pygments_lexer": "ipython3",
   "version": "3.4.3"
  }
 },
 "nbformat": 4,
 "nbformat_minor": 0
}
