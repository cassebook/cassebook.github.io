{
 "cells": [
  {
   "cell_type": "markdown",
   "metadata": {
    "deletable": true,
    "editable": true
   },
   "source": [
    "# Chapter 10: Sound Sharing and Retreival\n",
    "## b) Metadata-based retrieval"
   ]
  },
  {
   "cell_type": "code",
   "execution_count": null,
   "metadata": {
    "collapsed": false,
    "deletable": true,
    "editable": true
   },
   "outputs": [],
   "source": [
    "from IPython.core.display import display, HTML\n",
    "from IPython.display import Audio\n",
    "import pandas as pd\n",
    "from whoosh.index import open_dir\n",
    "from whoosh.qparser import MultifieldParser\n",
    "from whoosh import sorting, query\n",
    "df = pd.DataFrame.from_csv('database.csv')\n",
    "index = open_dir('text_index')"
   ]
  },
  {
   "cell_type": "code",
   "execution_count": null,
   "metadata": {
    "collapsed": true,
    "deletable": true,
    "editable": true
   },
   "outputs": [],
   "source": [
    "# Utils functions\n",
    "\n",
    "def search(input_query,\n",
    "           matching_fields=['name', 'description', 'tags'],\n",
    "           groupedby=None):\n",
    "    print('Searching for \"%s\"...' % input_query)\n",
    "    query = MultifieldParser(matching_fields, index.schema)\\\n",
    "        .parse(input_query)\n",
    "    results = index.searcher().search(query, groupedby=groupedby)\n",
    "    return results\n",
    "\n",
    "def display_results(results):\n",
    "    for count, result in enumerate(results):\n",
    "        print('  %i: %s (%s)' % (count + 1, \\\n",
    "              df.loc[int(result['pandas_index']), 'name'],\n",
    "              df.loc[int(result['pandas_index']), 'path']))\n",
    "        display(Audio(df.loc[int(result['pandas_index']), 'path']))"
   ]
  },
  {
   "cell_type": "code",
   "execution_count": null,
   "metadata": {
    "collapsed": false,
    "deletable": true,
    "editable": true
   },
   "outputs": [],
   "source": [
    "# Search with query terms 'dog'\n",
    "display_results(search('dog'))"
   ]
  },
  {
   "cell_type": "code",
   "execution_count": null,
   "metadata": {
    "collapsed": false,
    "deletable": true,
    "editable": true
   },
   "outputs": [],
   "source": [
    "# Search for 'dog' sounds up to 6 seconds long\n",
    "display_results(search('dog duration:[0 TO 6]'))"
   ]
  },
  {
   "cell_type": "code",
   "execution_count": null,
   "metadata": {
    "collapsed": false,
    "deletable": true,
    "editable": true
   },
   "outputs": [],
   "source": [
    "# Include only sounds with 'Creative Commons Zero' license\n",
    "display_results(search('dog duration:[0 TO 6] license:cc_0'))"
   ]
  },
  {
   "cell_type": "code",
   "execution_count": null,
   "metadata": {
    "collapsed": false,
    "deletable": true,
    "editable": true
   },
   "outputs": [],
   "source": [
    "def display_facet_results(results, facet_field):\n",
    "    print('Facet %s' % facet_field)\n",
    "    for key, value in sorted(results.groups(facet_field).items()):\n",
    "        print('\\t%s: %i' % (key, len(value)))\n",
    "\n",
    "# Define some facets, perform a search and display facet's output\n",
    "facets = sorting.Facets()\n",
    "facets.add_facet(\"license\", sorting.FieldFacet(\"license\"))\n",
    "facets.add_facet(\"duration\",\n",
    "    sorting.RangeFacet(\"duration\", 0, 1000, 10, hardend=False))\n",
    "results = search('dog', groupedby=facets)\n",
    "display_facet_results(results, \"license\")\n",
    "display_facet_results(results, \"duration\")"
   ]
  },
  {
   "cell_type": "code",
   "execution_count": null,
   "metadata": {
    "collapsed": false,
    "deletable": true,
    "editable": true,
    "scrolled": false
   },
   "outputs": [],
   "source": [
    "# Calculate tags facet considering all sounds in the index\n",
    "facets = sorting.Facets()\n",
    "facets.add_facet(\"tags\", sorting.FieldFacet(\"tags\", allow_overlap=True))\n",
    "results = index.searcher().search(query.Every(), groupedby=facets)\n",
    "\n",
    "# Generate html file with visual representation of tagcloud\n",
    "content = '<br><br><br>'\n",
    "max_len_docs = max([len(docs) for tag, docs in results.groups(\"tags\").items()])  # Get max tag frequency\n",
    "for tag, docs in results.groups(\"tags\").items():\n",
    "    if len(docs) > 3:  # Only show tags used more than 3 times\n",
    "        content += '<span style=\"font-size:%ipx;margin-right:10px;\">%s</span> ' % ((10+(50*len(docs)/max_len_docs))**1.2, tag)\n",
    "display(HTML(content))"
   ]
  }
 ],
 "metadata": {
  "kernelspec": {
   "display_name": "Python 3",
   "language": "python",
   "name": "python3"
  },
  "language_info": {
   "codemirror_mode": {
    "name": "ipython",
    "version": 3
   },
   "file_extension": ".py",
   "mimetype": "text/x-python",
   "name": "python",
   "nbconvert_exporter": "python",
   "pygments_lexer": "ipython3",
   "version": "3.4.3"
  }
 },
 "nbformat": 4,
 "nbformat_minor": 2
}
