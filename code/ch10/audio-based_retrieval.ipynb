{
 "cells": [
  {
   "cell_type": "markdown",
   "metadata": {
    "deletable": true,
    "editable": true
   },
   "source": [
    "# Chapter 10: Sound Sharing and Retreival\n",
    "## c) Audio-based retrieval"
   ]
  },
  {
   "cell_type": "code",
   "execution_count": null,
   "metadata": {
    "collapsed": true,
    "deletable": true,
    "editable": true
   },
   "outputs": [],
   "source": [
    "from IPython.core.display import display, HTML\n",
    "from IPython.display import Audio\n",
    "from sklearn.neighbors import NearestNeighbors\n",
    "import numpy as np\n",
    "import pandas as pd"
   ]
  },
  {
   "cell_type": "code",
   "execution_count": null,
   "metadata": {
    "collapsed": true,
    "deletable": true,
    "editable": true
   },
   "outputs": [],
   "source": [
    "def show_neighbors(index, n):\n",
    "    mfccs = [\"mfcc_mean_%i\"%idx for idx in range(1,13)] + [\"mfcc_var_%i\"%idx for idx in range(1,13)]\n",
    "    nbrs = NearestNeighbors(n_neighbors = n, algorithm='ball_tree').fit(df[mfccs].as_matrix())\n",
    "    example  = df[mfccs].as_matrix()[index,:].reshape(1,-1) # reshape avoids a warning from sklearn wrt 1d arrays\n",
    "    distances, indices = nbrs.kneighbors(example)\n",
    "    for count, (distance, index) in enumerate(zip(distances[0], indices[0])):\n",
    "        print('  %i: %.2f %s (%s) %s' % (count + 1, \\\n",
    "              distance,\n",
    "              df.loc[index, 'name'],\n",
    "              df.loc[index, 'path'], '(target sound)' if count == 0 else ''))\n",
    "        display(Audio(df.loc[index, 'path']))"
   ]
  },
  {
   "cell_type": "code",
   "execution_count": null,
   "metadata": {
    "collapsed": false,
    "deletable": true,
    "editable": true
   },
   "outputs": [],
   "source": [
    "df = pd.DataFrame.from_csv('database.csv')\n",
    "print(df.describe()) # Check statistics of descriptors"
   ]
  },
  {
   "cell_type": "code",
   "execution_count": null,
   "metadata": {
    "collapsed": false,
    "deletable": true,
    "editable": true,
    "scrolled": false
   },
   "outputs": [],
   "source": [
    "df.query(\"spectral_centroid < 50\") # Show the files with very low centroid\n",
    "df.ix[101][[\"name\",\"tags\",\"path\"]] # Select one\n",
    "show_neighbors(101, 10)"
   ]
  }
 ],
 "metadata": {
  "kernelspec": {
   "display_name": "Python 2",
   "language": "python",
   "name": "python2"
  },
  "language_info": {
   "codemirror_mode": {
    "name": "ipython",
    "version": 2
   },
   "file_extension": ".py",
   "mimetype": "text/x-python",
   "name": "python",
   "nbconvert_exporter": "python",
   "pygments_lexer": "ipython2",
   "version": "2.7.10"
  }
 },
 "nbformat": 4,
 "nbformat_minor": 2
}
